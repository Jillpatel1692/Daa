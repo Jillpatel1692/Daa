{
  "nbformat": 4,
  "nbformat_minor": 0,
  "metadata": {
    "colab": {
      "name": "4daa.ipynb",
      "provenance": [],
      "collapsed_sections": [],
      "authorship_tag": "ABX9TyO6+04K1H5yROzKY5mEo5le",
      "include_colab_link": true
    },
    "kernelspec": {
      "name": "python3",
      "display_name": "Python 3"
    },
    "language_info": {
      "name": "python"
    }
  },
  "cells": [
    {
      "cell_type": "markdown",
      "metadata": {
        "id": "view-in-github",
        "colab_type": "text"
      },
      "source": [
        "<a href=\"https://colab.research.google.com/github/Jillpatel1692/Daa/blob/main/4daa.ipynb\" target=\"_parent\"><img src=\"https://colab.research.google.com/assets/colab-badge.svg\" alt=\"Open In Colab\"/></a>"
      ]
    },
    {
      "cell_type": "code",
      "execution_count": 6,
      "metadata": {
        "colab": {
          "base_uri": "https://localhost:8080/"
        },
        "id": "NZvRQrYdjUe-",
        "outputId": "9f63f9bd-6f65-46fd-da61-dcc274a20342"
      },
      "outputs": [
        {
          "output_type": "stream",
          "name": "stdout",
          "text": [
            "[1, 1, 3, 9, 10, 7, 5]\n"
          ]
        }
      ],
      "source": [
        "# selection sort\n",
        "def selection(A):\n",
        "  for i in range(len(A)):\n",
        "    min_index=i\n",
        "    for j in range(i+1, len(A)):\n",
        "      if(A[min_index] > A[j]):\n",
        "        min_index=j\n",
        "        A[min_index], A[i] = A[i], A[min_index]\n",
        "        return A\n",
        "\n",
        "A = [1, 3, 1, 9, 10, 7, 5]\n",
        "A=selection(A)\n",
        "print(A)\n"
      ]
    },
    {
      "cell_type": "code",
      "source": [
        "\n",
        "# Bubble sort\n",
        "def bubble(A):\n",
        "  for i in range(len(A)):\n",
        "    swap=False\n",
        "    for j in range(len(A)-i-1):\n",
        "      if(A[j] > A[j+1]):\n",
        "        A[j], A[j+1] = A[j+1], A[j]\n",
        "        swap=True\n",
        "      if(swap==True):\n",
        "        return A\n",
        "A = [1, 4, 2, 5, 1, 0 ,10]\n",
        "A=bubble(A)\n",
        "print(A)"
      ],
      "metadata": {
        "colab": {
          "base_uri": "https://localhost:8080/"
        },
        "id": "WKC2KHnjkHnX",
        "outputId": "6398f5a6-acb6-460a-bcff-c7f11805b533"
      },
      "execution_count": 5,
      "outputs": [
        {
          "output_type": "stream",
          "name": "stdout",
          "text": [
            "[1, 2, 4, 5, 1, 0, 10]\n"
          ]
        }
      ]
    },
    {
      "cell_type": "code",
      "source": [
        "no = [0,11,21,31,4,5,8,9]\n",
        "str = ''\n",
        "for i in no:\n",
        "  str = str + chr(i) # chr - int to ascii value\n",
        "print(str)"
      ],
      "metadata": {
        "colab": {
          "base_uri": "https://localhost:8080/"
        },
        "id": "JfmfBSeHnmVQ",
        "outputId": "a4bca4a3-9123-4701-af66-3e141c5c3f11"
      },
      "execution_count": 23,
      "outputs": [
        {
          "output_type": "stream",
          "name": "stdout",
          "text": [
            "\u0000\u000b\u0015\u001f\u0004\u0005\b\t\n"
          ]
        }
      ]
    },
    {
      "cell_type": "code",
      "source": [
        "#counting sort\n",
        "def countingsort(A):\n",
        "  count=[0 for i in range(256)]\n",
        "  for i in range(len(A)):\n",
        "    count[ord(A[i])]+=1\n",
        "    output=\"\"\n",
        "    for i in range(256):\n",
        "      output=output+[count[i]*chr(i)]\n",
        "      return output\n",
        "A=\"shfhgfjfjngngkbgkgb\"\n",
        "out=countingsort(A)\n",
        "print(out)"
      ],
      "metadata": {
        "colab": {
          "base_uri": "https://localhost:8080/",
          "height": 339
        },
        "id": "sH1HuHOlq4D6",
        "outputId": "8e674226-7b21-45c8-f1fe-c097482441bb"
      },
      "execution_count": 24,
      "outputs": [
        {
          "output_type": "error",
          "ename": "TypeError",
          "evalue": "ignored",
          "traceback": [
            "\u001b[0;31m---------------------------------------------------------------------------\u001b[0m",
            "\u001b[0;31mTypeError\u001b[0m                                 Traceback (most recent call last)",
            "\u001b[0;32m<ipython-input-24-df805e981414>\u001b[0m in \u001b[0;36m<module>\u001b[0;34m()\u001b[0m\n\u001b[1;32m      9\u001b[0m       \u001b[0;32mreturn\u001b[0m \u001b[0moutput\u001b[0m\u001b[0;34m\u001b[0m\u001b[0;34m\u001b[0m\u001b[0m\n\u001b[1;32m     10\u001b[0m \u001b[0mA\u001b[0m\u001b[0;34m=\u001b[0m\u001b[0;34m\"shfhgfjfjngngkbgkgb\"\u001b[0m\u001b[0;34m\u001b[0m\u001b[0;34m\u001b[0m\u001b[0m\n\u001b[0;32m---> 11\u001b[0;31m \u001b[0mout\u001b[0m\u001b[0;34m=\u001b[0m\u001b[0mcountingsort\u001b[0m\u001b[0;34m(\u001b[0m\u001b[0mA\u001b[0m\u001b[0;34m)\u001b[0m\u001b[0;34m\u001b[0m\u001b[0;34m\u001b[0m\u001b[0m\n\u001b[0m\u001b[1;32m     12\u001b[0m \u001b[0mprint\u001b[0m\u001b[0;34m(\u001b[0m\u001b[0mout\u001b[0m\u001b[0;34m)\u001b[0m\u001b[0;34m\u001b[0m\u001b[0;34m\u001b[0m\u001b[0m\n",
            "\u001b[0;32m<ipython-input-24-df805e981414>\u001b[0m in \u001b[0;36mcountingsort\u001b[0;34m(A)\u001b[0m\n\u001b[1;32m      6\u001b[0m     \u001b[0moutput\u001b[0m\u001b[0;34m=\u001b[0m\u001b[0;34m\"\"\u001b[0m\u001b[0;34m\u001b[0m\u001b[0;34m\u001b[0m\u001b[0m\n\u001b[1;32m      7\u001b[0m     \u001b[0;32mfor\u001b[0m \u001b[0mi\u001b[0m \u001b[0;32min\u001b[0m \u001b[0mrange\u001b[0m\u001b[0;34m(\u001b[0m\u001b[0;36m256\u001b[0m\u001b[0;34m)\u001b[0m\u001b[0;34m:\u001b[0m\u001b[0;34m\u001b[0m\u001b[0;34m\u001b[0m\u001b[0m\n\u001b[0;32m----> 8\u001b[0;31m       \u001b[0moutput\u001b[0m\u001b[0;34m=\u001b[0m\u001b[0moutput\u001b[0m\u001b[0;34m+\u001b[0m\u001b[0;34m[\u001b[0m\u001b[0mcount\u001b[0m\u001b[0;34m[\u001b[0m\u001b[0mi\u001b[0m\u001b[0;34m]\u001b[0m\u001b[0;34m*\u001b[0m\u001b[0mchr\u001b[0m\u001b[0;34m(\u001b[0m\u001b[0mi\u001b[0m\u001b[0;34m)\u001b[0m\u001b[0;34m]\u001b[0m\u001b[0;34m\u001b[0m\u001b[0;34m\u001b[0m\u001b[0m\n\u001b[0m\u001b[1;32m      9\u001b[0m       \u001b[0;32mreturn\u001b[0m \u001b[0moutput\u001b[0m\u001b[0;34m\u001b[0m\u001b[0;34m\u001b[0m\u001b[0m\n\u001b[1;32m     10\u001b[0m \u001b[0mA\u001b[0m\u001b[0;34m=\u001b[0m\u001b[0;34m\"shfhgfjfjngngkbgkgb\"\u001b[0m\u001b[0;34m\u001b[0m\u001b[0;34m\u001b[0m\u001b[0m\n",
            "\u001b[0;31mTypeError\u001b[0m: can only concatenate str (not \"list\") to str"
          ]
        }
      ]
    }
  ]
}