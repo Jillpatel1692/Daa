{
  "nbformat": 4,
  "nbformat_minor": 0,
  "metadata": {
    "colab": {
      "name": "4daa.ipynb",
      "provenance": [],
      "collapsed_sections": [],
      "authorship_tag": "ABX9TyOCe4lrNTxtz8/w89pqvz4A",
      "include_colab_link": true
    },
    "kernelspec": {
      "name": "python3",
      "display_name": "Python 3"
    },
    "language_info": {
      "name": "python"
    }
  },
  "cells": [
    {
      "cell_type": "markdown",
      "metadata": {
        "id": "view-in-github",
        "colab_type": "text"
      },
      "source": [
        "<a href=\"https://colab.research.google.com/github/Jillpatel1692/Daa/blob/main/4daa.ipynb\" target=\"_parent\"><img src=\"https://colab.research.google.com/assets/colab-badge.svg\" alt=\"Open In Colab\"/></a>"
      ]
    },
    {
      "cell_type": "code",
      "execution_count": 6,
      "metadata": {
        "colab": {
          "base_uri": "https://localhost:8080/"
        },
        "id": "NZvRQrYdjUe-",
        "outputId": "9f63f9bd-6f65-46fd-da61-dcc274a20342"
      },
      "outputs": [
        {
          "output_type": "stream",
          "name": "stdout",
          "text": [
            "[1, 1, 3, 9, 10, 7, 5]\n"
          ]
        }
      ],
      "source": [
        "# selection sort\n",
        "def selection(A):\n",
        "  for i in range(len(A)):\n",
        "    min_index=i\n",
        "    for j in range(i+1, len(A)):\n",
        "      if(A[min_index] > A[j]):\n",
        "        min_index=j\n",
        "        A[min_index], A[i] = A[i], A[min_index]\n",
        "        return A\n",
        "\n",
        "A = [1, 3, 1, 9, 10, 7, 5]\n",
        "A=selection(A)\n",
        "print(A)\n"
      ]
    },
    {
      "cell_type": "code",
      "source": [
        "\n",
        "# Bubble sort\n",
        "def bubble(A):\n",
        "  for i in range(len(A)):\n",
        "    swap=False\n",
        "    for j in range(len(A)-i-1):\n",
        "      if(A[j] > A[j+1]):\n",
        "        A[j], A[j+1] = A[j+1], A[j]\n",
        "        swap=True\n",
        "      if(swap==True):\n",
        "        return A\n",
        "A = [1, 4, 2, 5, 1, 0 ,10]\n",
        "A=bubble(A)\n",
        "print(A)"
      ],
      "metadata": {
        "colab": {
          "base_uri": "https://localhost:8080/"
        },
        "id": "WKC2KHnjkHnX",
        "outputId": "6398f5a6-acb6-460a-bcff-c7f11805b533"
      },
      "execution_count": 5,
      "outputs": [
        {
          "output_type": "stream",
          "name": "stdout",
          "text": [
            "[1, 2, 4, 5, 1, 0, 10]\n"
          ]
        }
      ]
    },
    {
      "cell_type": "code",
      "source": [
        "no = [0,11,21,31,4,5,8,9]\n",
        "str = ''\n",
        "for i in no:\n",
        "  str = str + chr(i) # chr - int to ascii value\n",
        "print(str)"
      ],
      "metadata": {
        "colab": {
          "base_uri": "https://localhost:8080/"
        },
        "id": "JfmfBSeHnmVQ",
        "outputId": "a4bca4a3-9123-4701-af66-3e141c5c3f11"
      },
      "execution_count": 23,
      "outputs": [
        {
          "output_type": "stream",
          "name": "stdout",
          "text": [
            "\u0000\u000b\u0015\u001f\u0004\u0005\b\t\n"
          ]
        }
      ]
    },
    {
      "cell_type": "code",
      "source": [
        "def countingsort(A):\n",
        "  count=[0 for i in range(256)]\n",
        "  for i in range(len(A)):\n",
        "    count[ord(A[i])]+=1\n",
        "  output=\"\"\n",
        "  for i in range(256):\n",
        "    output=output+(count[i]*chr(i))\n",
        "  return output\n",
        "\n",
        "A=\"SSDKFN8345fvbefvc\"\n",
        "out=countingsort(A)\n",
        "print(out)"
      ],
      "metadata": {
        "colab": {
          "base_uri": "https://localhost:8080/"
        },
        "id": "sH1HuHOlq4D6",
        "outputId": "b7ab9afa-b711-4270-aa59-4f6326762ed0"
      },
      "execution_count": 25,
      "outputs": [
        {
          "output_type": "stream",
          "name": "stdout",
          "text": [
            "3458DFKNSSbceffvv\n"
          ]
        }
      ]
    }
  ]
}